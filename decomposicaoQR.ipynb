{
  "nbformat": 4,
  "nbformat_minor": 0,
  "metadata": {
    "colab": {
      "provenance": [],
      "authorship_tag": "ABX9TyMQHek4oH0cDi+XbAJbUwTM",
      "include_colab_link": true
    },
    "kernelspec": {
      "name": "python3",
      "display_name": "Python 3"
    },
    "language_info": {
      "name": "python"
    }
  },
  "cells": [
    {
      "cell_type": "markdown",
      "metadata": {
        "id": "view-in-github",
        "colab_type": "text"
      },
      "source": [
        "<a href=\"https://colab.research.google.com/github/amanda-araujo/applied-linear-algebra/blob/main/decomposicaoQR.ipynb\" target=\"_parent\"><img src=\"https://colab.research.google.com/assets/colab-badge.svg\" alt=\"Open In Colab\"/></a>"
      ]
    },
    {
      "cell_type": "markdown",
      "source": [
        "# Decomposição QR"
      ],
      "metadata": {
        "id": "7SjS15iDd8HM"
      }
    },
    {
      "cell_type": "code",
      "execution_count": 10,
      "metadata": {
        "id": "TqNkBI0LYboo"
      },
      "outputs": [],
      "source": [
        "import numpy as np\n",
        "np.set_printoptions(suppress=True)"
      ]
    },
    {
      "cell_type": "markdown",
      "source": [
        "**Problema**: dada uma matriz quadrada qualquer A, encontrar seus autovalores.\n",
        "\n",
        "***Pontos importantes***:\n",
        "*   Autovalores matriz triangular → diagonal principal\n",
        "*   Matrizes similares: mesmos autovalores\n",
        "*   Transformação de similaridade: $B = M^{-1}AM$, $M$ inversível\n",
        "*   Matriz ortonormal: $Q^{-1} = Q^T$\n",
        "*   Decomposição (ou fatoração) QR: dada qualquer matriz A $m×n$, temos: A = QR, onde Q ∈ $\\mathbb{R}^{m×m}$ ortogonal e R ∈ $\\mathbb{R}^{m×n}$ triangular superior.\n",
        "\n",
        "**Ideia**: Transformar a matriz A de modo a ter uma matriz similar triangular, onde os autovalores são facilmente obtidos, sendo a diagonal principal da matriz.\n",
        "\n",
        "\n"
      ],
      "metadata": {
        "id": "uRIlvpLhbq_0"
      }
    },
    {
      "cell_type": "code",
      "source": [
        "# Matriz quadrada qualquer\n",
        "A = np.vander(np.array([1, 2, 3, 4, 5])) # matriz de Vandermonde (termos de cada linha estão em progressão geométrica)\n",
        "print(A)"
      ],
      "metadata": {
        "colab": {
          "base_uri": "https://localhost:8080/"
        },
        "id": "qFFBuc_vYkGJ",
        "outputId": "30555681-be46-48b4-966d-9c6b0523070e"
      },
      "execution_count": 22,
      "outputs": [
        {
          "output_type": "stream",
          "name": "stdout",
          "text": [
            "[[  1   1   1   1   1]\n",
            " [ 16   8   4   2   1]\n",
            " [ 81  27   9   3   1]\n",
            " [256  64  16   4   1]\n",
            " [625 125  25   5   1]]\n"
          ]
        }
      ]
    },
    {
      "cell_type": "markdown",
      "source": [
        "Deseja-se transformar A em uma matriz triangular, mantendo seus autovalores.\n",
        "\n",
        "* Os autovalores da matriz A pode ser conservados através de uma transformação de similaridade: $B = M^{-1}AM$, $M$ inversível.\n",
        "\n",
        "Essa propriedade é útil se a matriz B similar for triangular. Vamos encontrar $M$ inversível tal que isso seja satisfeito.\n",
        "\n",
        "> Uma matriz boa de se trabalhar e que é inversível é uma matriz ortonormal: $B = Q^{-1}AQ = Q^{T}AQ$. Uma matriz ortonormal Q pode ser obtida a partir da própria matriz A, utilizando a *decomposição QR*: $A = QR$\n",
        "\n",
        "Desse modo, temos:\n",
        "$B = Q^{T}AQ = Q^{T}(QR)Q = RQ$.\n",
        "Logo, $B = RQ$\n"
      ],
      "metadata": {
        "id": "FigmvHkBeH3K"
      }
    },
    {
      "cell_type": "code",
      "source": [
        "Q1, R1 = np.linalg.qr(A) # decomposição QR\n",
        "B1 = Q1.T @ A @ Q1       # transformação de similaridade (mesmos autovalores)\n",
        "print(B1)"
      ],
      "metadata": {
        "colab": {
          "base_uri": "https://localhost:8080/"
        },
        "id": "dHQ27avkYq1L",
        "outputId": "3a5c7693-5c22-44fa-c497-f27bc4a5e105"
      },
      "execution_count": 23,
      "outputs": [
        {
          "output_type": "stream",
          "name": "stdout",
          "text": [
            "[[  11.70370362   95.94985219 -391.83817342  548.76240376  141.99011309]\n",
            " [   3.74545605   11.42886867  -12.06749667   -4.41288385   -6.03073889]\n",
            " [  -1.60429851   -1.31349271   -0.19198933    0.15806735   -0.47209789]\n",
            " [   0.64226745    0.00069666    0.06699352    0.05543297   -0.06265891]\n",
            " [   0.0579779    -0.02211493   -0.00958549   -0.00507957    0.00398406]]\n"
          ]
        }
      ]
    },
    {
      "cell_type": "code",
      "source": [
        "Q2, R2 = np.linalg.qr(B1) # decomposição QR\n",
        "B2 = Q2.T @ B1 @ Q2       # transformação de similaridade (mesmos autovalores)\n",
        "print(B2)"
      ],
      "metadata": {
        "colab": {
          "base_uri": "https://localhost:8080/"
        },
        "id": "AjPuORhTZL7Y",
        "outputId": "9dd3b5a8-3497-48c7-9ce6-2ed5b75ba5ab"
      },
      "execution_count": 24,
      "outputs": [
        {
          "output_type": "stream",
          "name": "stdout",
          "text": [
            "[[ 115.68622618  370.62194891 -452.21166965  270.56856131  -61.22404307]\n",
            " [ -31.7512938  -117.64692367  157.63938398 -102.58204324   25.34084046]\n",
            " [  -3.74105044  -15.14265967   26.48924234  -21.88724748    6.74361227]\n",
            " [  -0.09133312   -0.39278026    0.8289485    -1.569848      0.87873481]\n",
            " [  -0.00019546   -0.00088038    0.00212591   -0.00624528    0.04130314]]\n"
          ]
        }
      ]
    },
    {
      "cell_type": "markdown",
      "source": [
        "Note que: os valores abaixo da diagonal principal estão se aproximando de zero."
      ],
      "metadata": {
        "id": "JYxrEn4Mbjjb"
      }
    },
    {
      "cell_type": "markdown",
      "source": [
        "**Ideia básica do procedimento**:\n",
        "\n",
        "Seja $A_0 = A$\n",
        "1.   Obtenha $A_0 = Q_0R_0$ (*decomposição QR* )\n",
        "2.   Defina $A_1 = Q_0^TA_0Q_0$\n",
        "3.   Obtenha $A_1 = Q_1R_1$ (*decomposição QR* )\n",
        "4.   Defina $A_2 = Q_1^TA_1Q_1$\n",
        "5.   Repita até... obter matriz aproximadamente triangular superior\n"
      ],
      "metadata": {
        "id": "nK-hbVookwje"
      }
    },
    {
      "cell_type": "code",
      "source": [
        "def algoritmoQR(A, iter):\n",
        "\n",
        "  B = A\n",
        "\n",
        "  for i in range(iter):\n",
        "    Q, R = np.linalg.qr(B)\n",
        "    B = Q.T @ B @ Q\n",
        "\n",
        "  return B"
      ],
      "metadata": {
        "id": "3XHgiK2zZb0r"
      },
      "execution_count": 25,
      "outputs": []
    },
    {
      "cell_type": "code",
      "source": [
        "print(algoritmoQR(B2, 10))"
      ],
      "metadata": {
        "colab": {
          "base_uri": "https://localhost:8080/"
        },
        "id": "WUXfcoNRZ9C3",
        "outputId": "a039ab2f-9e68-4b99-d40b-2faa57341396"
      },
      "execution_count": 26,
      "outputs": [
        {
          "output_type": "stream",
          "name": "stdout",
          "text": [
            "[[  46.33822053  332.98633461 -514.68441635  307.66599019  -66.779145  ]\n",
            " [  -0.08541024  -29.32149386   63.50176862  -47.79952069   12.76351153]\n",
            " [  -0.00000001   -0.00000355    6.79539417   -9.37454125    3.58763849]\n",
            " [  -0.           -0.            0.           -0.84961949    0.64728609]\n",
            " [  -0.           -0.            0.           -0.            0.03749864]]\n"
          ]
        }
      ]
    },
    {
      "cell_type": "code",
      "source": [
        "# Autovalores da matriz A\n",
        "np.linalg.eigvals(A)"
      ],
      "metadata": {
        "colab": {
          "base_uri": "https://localhost:8080/"
        },
        "id": "p4o419TraN43",
        "outputId": "980fab97-7d86-4f51-8e17-b6b56f22c561"
      },
      "execution_count": 20,
      "outputs": [
        {
          "output_type": "execute_result",
          "data": {
            "text/plain": [
              "array([ 45.96043479, -28.94370187,   6.79538792,  -0.84961948,\n",
              "         0.03749864])"
            ]
          },
          "metadata": {},
          "execution_count": 20
        }
      ]
    },
    {
      "cell_type": "markdown",
      "source": [
        "Para melhorar, aumentar o número de iterações"
      ],
      "metadata": {
        "id": "auDx7-AAj0Tp"
      }
    },
    {
      "cell_type": "code",
      "source": [
        "print(algoritmoQR(B2, 20))"
      ],
      "metadata": {
        "colab": {
          "base_uri": "https://localhost:8080/"
        },
        "id": "0--Euyocj560",
        "outputId": "81c98d6c-b556-433b-e726-a8dacef46ce3"
      },
      "execution_count": 27,
      "outputs": [
        {
          "output_type": "stream",
          "name": "stdout",
          "text": [
            "[[  45.96412364  333.07086454 -514.75546618  307.71949702  -66.79344218]\n",
            " [  -0.00082962  -28.94739072   62.92350346  -47.45384027   12.68847997]\n",
            " [  -0.           -0.            6.79538792   -9.37453655    3.58763723]\n",
            " [  -0.           -0.            0.           -0.84961948    0.64728609]\n",
            " [  -0.           -0.            0.           -0.            0.03749864]]\n"
          ]
        }
      ]
    },
    {
      "cell_type": "code",
      "source": [
        "# Algoritmo QR\n",
        "def QR_algoritmo(A, iter):\n",
        "\n",
        "  B = A\n",
        "\n",
        "  for i in range(iter):\n",
        "    Q, R = np.linalg.qr(B)\n",
        "    B = R @ Q\n",
        "\n",
        "  return B"
      ],
      "metadata": {
        "id": "8xgbcygEo5YS"
      },
      "execution_count": 37,
      "outputs": []
    },
    {
      "cell_type": "code",
      "source": [
        "print(QR_algoritmo(A, 20))"
      ],
      "metadata": {
        "colab": {
          "base_uri": "https://localhost:8080/"
        },
        "id": "UPU4ZHQzpux6",
        "outputId": "b5d2115b-935b-4b5d-a416-028271ca5bac"
      },
      "execution_count": 51,
      "outputs": [
        {
          "output_type": "stream",
          "name": "stdout",
          "text": [
            "[[  45.96973691  333.06960194 -514.75440564  307.71869722  -66.79322833]\n",
            " [  -0.00209222  -28.953004     62.93217873  -47.45902632   12.68960565]\n",
            " [  -0.           -0.            6.79538792   -9.37453655    3.58763723]\n",
            " [  -0.           -0.            0.           -0.84961948    0.64728609]\n",
            " [  -0.           -0.            0.           -0.            0.03749864]]\n"
          ]
        }
      ]
    },
    {
      "cell_type": "code",
      "source": [
        "iter = 50\n",
        "print('Autovalores da matriz A:')\n",
        "print(np.linalg.eigvals(A))\n",
        "print('Autovalores da matriz A via algoritmo QR (' + str(iter) + ' iterações):')\n",
        "print(np.diag(QR_algoritmo(A, iter)))"
      ],
      "metadata": {
        "colab": {
          "base_uri": "https://localhost:8080/"
        },
        "id": "Yy1cGDERqJw_",
        "outputId": "cb51bcf7-8fa2-42de-ed6c-9ec26b901f44"
      },
      "execution_count": 56,
      "outputs": [
        {
          "output_type": "stream",
          "name": "stdout",
          "text": [
            "Autovalores da matriz A:\n",
            "[ 45.96043479 -28.94370187   6.79538792  -0.84961948   0.03749864]\n",
            "Autovalores da matriz A via algoritmo QR (50 iterações):\n",
            "[ 45.96043479 -28.94370188   6.79538792  -0.84961948   0.03749864]\n"
          ]
        }
      ]
    }
  ]
}